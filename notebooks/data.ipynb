{
 "cells": [
  {
   "cell_type": "code",
   "execution_count": 1,
   "id": "d0d9ca63",
   "metadata": {},
   "outputs": [
    {
     "name": "stdout",
     "output_type": "stream",
     "text": [
      "📦 Fetching reviews for Commercial Bank of Ethiopia...\n",
      "📦 Fetching reviews for Bank of Abyssinia...\n",
      "📦 Fetching reviews for Dashen Bank...\n",
      "\n",
      "✅ Scraping complete. Data saved to: bank_reviews.csv\n"
     ]
    },
    {
     "name": "stderr",
     "output_type": "stream",
     "text": [
      "C:\\Users\\Amenzz\\AppData\\Local\\Temp\\ipykernel_17540\\3531052261.py:32: FutureWarning: The behavior of DataFrame concatenation with empty or all-NA entries is deprecated. In a future version, this will no longer exclude empty or all-NA columns when determining the result dtypes. To retain the old behavior, exclude the relevant entries before the concat operation.\n",
      "  all_reviews = pd.concat([all_reviews, df], ignore_index=True)\n"
     ]
    }
   ],
   "source": [
    "from google_play_scraper import Sort, reviews\n",
    "import pandas as pd\n",
    "\n",
    "# List of bank apps with package names (update if incorrect)\n",
    "apps = {\n",
    "    \"Commercial Bank of Ethiopia\": \"com.combanketh.mobilebanking\",\n",
    "    \"Bank of Abyssinia\": \"com.boa.boaMobileBanking\",\n",
    "    \"Dashen Bank\": \"com.cr2.amolelight\"\n",
    "}\n",
    "\n",
    "\n",
    "# Desired number of reviews per app\n",
    "N_REVIEWS = 400\n",
    "\n",
    "# Master DataFrame to hold all reviews\n",
    "all_reviews = pd.DataFrame()\n",
    "\n",
    "for bank_name, app_id in apps.items():\n",
    "    print(f\"📦 Fetching reviews for {bank_name}...\")\n",
    "    \n",
    "    reviews_list, _ = reviews(\n",
    "        app_id,\n",
    "        lang='en',\n",
    "        country='us',\n",
    "        sort=Sort.NEWEST,\n",
    "        count=N_REVIEWS,\n",
    "        filter_score_with=None  # Pull all ratings, not just 1-star, etc.\n",
    "    )\n",
    "\n",
    "    df = pd.DataFrame(reviews_list)\n",
    "    df['bank'] = bank_name\n",
    "    all_reviews = pd.concat([all_reviews, df], ignore_index=True)\n",
    "\n",
    "# Save the scraped data\n",
    "output_path = \"bank_reviews.csv\"\n",
    "all_reviews.to_csv(output_path, index=False)\n",
    "print(f\"\\n✅ Scraping complete. Data saved to: {output_path}\")\n"
   ]
  },
  {
   "cell_type": "code",
   "execution_count": 2,
   "id": "66ad19f8",
   "metadata": {},
   "outputs": [
    {
     "name": "stdout",
     "output_type": "stream",
     "text": [
      "✅ Clean file saved to: bank_reviews_clean.csv\n",
      "                                              review  rating        date  \\\n",
      "0                         So bad now and hard to use       5  2025-06-09   \n",
      "1  it is so amazing app. but, it is better to upd...       5  2025-06-09   \n",
      "2                                         v.good app       4  2025-06-09   \n",
      "3                                      very good app       1  2025-06-09   \n",
      "4           Very amazing app indeed. I'm enjoying it       5  2025-06-08   \n",
      "\n",
      "                          bank       source  \n",
      "0  Commercial Bank of Ethiopia  Google Play  \n",
      "1  Commercial Bank of Ethiopia  Google Play  \n",
      "2  Commercial Bank of Ethiopia  Google Play  \n",
      "3  Commercial Bank of Ethiopia  Google Play  \n",
      "4  Commercial Bank of Ethiopia  Google Play  \n"
     ]
    }
   ],
   "source": [
    "import pandas as pd\n",
    "from pathlib import Path\n",
    "\n",
    "# 1️⃣  Load the raw scrape\n",
    "raw_path = Path(\"bank_reviews.csv\")\n",
    "df = pd.read_csv(raw_path)\n",
    "\n",
    "# 2️⃣  Basic cleaning\n",
    "# -------------------------------------------------\n",
    "# a) Drop exact duplicates based on the reviewId (if present)\n",
    "if \"reviewId\" in df.columns:\n",
    "    df = df.drop_duplicates(subset=\"reviewId\")\n",
    "\n",
    "# b) Drop rows with missing review text or rating\n",
    "df = df.dropna(subset=[\"content\", \"score\"])\n",
    "\n",
    "# 3️⃣  Normalise the date\n",
    "# -------------------------------------------------\n",
    "# 'at' column from google-play-scraper is a full timestamp\n",
    "df[\"date\"] = pd.to_datetime(df[\"at\"], errors=\"coerce\").dt.date  # keep only YYYY-MM-DD\n",
    "df = df.dropna(subset=[\"date\"])  # remove rows we couldn’t parse\n",
    "\n",
    "# 4️⃣  Keep / rename the requested columns\n",
    "# -------------------------------------------------\n",
    "df_clean = df.rename(columns={\n",
    "    \"content\": \"review\",\n",
    "    \"score\": \"rating\"\n",
    "})[[\"review\", \"rating\", \"date\", \"bank\"]]\n",
    "\n",
    "df_clean[\"source\"] = \"Google Play\"\n",
    "\n",
    "# 5️⃣  Save the cleaned file\n",
    "# -------------------------------------------------\n",
    "clean_path = Path(\"bank_reviews_clean.csv\")\n",
    "df_clean.to_csv(clean_path, index=False)\n",
    "\n",
    "print(\"✅ Clean file saved to:\", clean_path)\n",
    "print(df_clean.head())\n"
   ]
  },
  {
   "cell_type": "code",
   "execution_count": 3,
   "id": "1f0bf73e",
   "metadata": {},
   "outputs": [
    {
     "name": "stdout",
     "output_type": "stream",
     "text": [
      "🏦 Banks found in dataset: ['Commercial Bank of Ethiopia' 'Bank of Abyssinia' 'Dashen Bank']\n"
     ]
    }
   ],
   "source": [
    "import pandas as pd\n",
    "\n",
    "# Load the cleaned dataset\n",
    "df = pd.read_csv(\"bank_reviews_clean.csv\")\n",
    "\n",
    "# Show unique bank names\n",
    "print(\"🏦 Banks found in dataset:\", df['bank'].unique())\n"
   ]
  },
  {
   "cell_type": "code",
   "execution_count": 5,
   "id": "cf20e43e",
   "metadata": {},
   "outputs": [
    {
     "name": "stdout",
     "output_type": "stream",
     "text": [
      "🔍 Number of Reviews Per Bank:\n",
      "bank\n",
      "Commercial Bank of Ethiopia    400\n",
      "Bank of Abyssinia              400\n",
      "Dashen Bank                    400\n",
      "Name: count, dtype: int64\n",
      "\n",
      "🧪 Percentage of Missing Data Per Column:\n",
      "reviewId                 0.00\n",
      "userName                 0.00\n",
      "userImage                0.00\n",
      "content                  0.00\n",
      "score                    0.00\n",
      "thumbsUpCount            0.00\n",
      "reviewCreatedVersion    25.33\n",
      "at                       0.00\n",
      "replyContent            99.92\n",
      "repliedAt               99.92\n",
      "appVersion              25.33\n",
      "bank                     0.00\n",
      "dtype: float64\n"
     ]
    }
   ],
   "source": [
    "import pandas as pd\n",
    "\n",
    "# Load your cleaned dataset\n",
    "df = pd.read_csv(\"bank_reviews.csv\")  # Replace with your actual CSV file path\n",
    "\n",
    "# 1. 🔢 Number of reviews per bank\n",
    "print(\"🔍 Number of Reviews Per Bank:\")\n",
    "print(df['bank'].value_counts())\n",
    "\n",
    "# 2. 📉 Percentage of missing data per column\n",
    "print(\"\\n🧪 Percentage of Missing Data Per Column:\")\n",
    "missing_percent = df.isnull().mean() * 100\n",
    "print(missing_percent.round(2))\n"
   ]
  }
 ],
 "metadata": {
  "kernelspec": {
   "display_name": ".venv",
   "language": "python",
   "name": "python3"
  },
  "language_info": {
   "codemirror_mode": {
    "name": "ipython",
    "version": 3
   },
   "file_extension": ".py",
   "mimetype": "text/x-python",
   "name": "python",
   "nbconvert_exporter": "python",
   "pygments_lexer": "ipython3",
   "version": "3.13.3"
  }
 },
 "nbformat": 4,
 "nbformat_minor": 5
}
